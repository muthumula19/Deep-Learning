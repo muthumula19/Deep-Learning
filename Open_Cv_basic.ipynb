{
 "cells": [
  {
   "cell_type": "code",
   "execution_count": 1,
   "metadata": {},
   "outputs": [],
   "source": [
    "import cv2 as cv\n",
    "import numpy as np"
   ]
  },
  {
   "cell_type": "code",
   "execution_count": 5,
   "metadata": {},
   "outputs": [],
   "source": [
    "#to read an image\n",
    "img=cv.imread('resource/cat.jpg')  #file directory\n",
    "cv.imshow('Cat',img)\n",
    "cv.waitKey(0)                    # display time\n",
    "cv.destroyAllWindows()"
   ]
  },
  {
   "cell_type": "code",
   "execution_count": 11,
   "metadata": {},
   "outputs": [],
   "source": [
    "#video caputer\n",
    "video=cv.VideoCapture('resource/videos/dog.mp4')\n",
    "while True:\n",
    "    isTrue,frame=video.read() #frames is present true\n",
    "    if isTrue==False:        #break after all frames\n",
    "        break\n",
    "    cv.imshow('Video',frame)\n",
    "    if cv.waitKey(20) & 0xFF==ord('d'):     #press butten d to exit \n",
    "        break\n",
    "video.release()\n",
    "cv.destroyAllWindows()"
   ]
  },
  {
   "cell_type": "code",
   "execution_count": 12,
   "metadata": {},
   "outputs": [],
   "source": [
    "#for web cam\n",
    "video=cv.VideoCapture(0)\n",
    "while True:\n",
    "    isTrue,frame=video.read() #frames is present true\n",
    "    if isTrue==False:        #break after all frames\n",
    "        break\n",
    "    cv.imshow('Video',frame)\n",
    "    if cv.waitKey(20) & 0xFF==ord('d'):     #press butten d to exit \n",
    "        break\n",
    "video.release()\n",
    "cv.destroyAllWindows()"
   ]
  },
  {
   "cell_type": "markdown",
   "metadata": {},
   "source": [
    "## Resize"
   ]
  },
  {
   "cell_type": "code",
   "execution_count": 14,
   "metadata": {},
   "outputs": [],
   "source": [
    "def rescale(frame,scale=0.75):\n",
    "    width=int(frame.shape[1]*scale)\n",
    "    height=int(frame.shape[0]*scale)\n",
    "    dimension=(width,height)\n",
    "    return cv.resize(frame,dimension,interpolation=cv.INTER_LINEAR)"
   ]
  },
  {
   "cell_type": "code",
   "execution_count": 18,
   "metadata": {},
   "outputs": [],
   "source": [
    "img=cv.imread('resource/cat.jpg')\n",
    "resize_img=rescale(img)\n",
    "cv.imshow('Cat_resize',resize_img)\n",
    "cv.imshow('Cat',img)\n",
    "cv.waitKey(0)                    # display time\n",
    "cv.destroyAllWindows()"
   ]
  },
  {
   "cell_type": "markdown",
   "metadata": {},
   "source": [
    "## writin on image"
   ]
  },
  {
   "cell_type": "code",
   "execution_count": 9,
   "metadata": {},
   "outputs": [],
   "source": [
    "blank=np.zeros((500,500,3),dtype='uint8')\n",
    "cv.imshow('blank',blank)\n",
    "cv.waitKey(0)                    # display time\n",
    "cv.destroyAllWindows()"
   ]
  },
  {
   "cell_type": "code",
   "execution_count": 10,
   "metadata": {},
   "outputs": [],
   "source": [
    "blank[:]=0,0,125\n",
    "cv.imshow('blank',blank)\n",
    "cv.waitKey(0)                    \n",
    "cv.destroyAllWindows()"
   ]
  },
  {
   "cell_type": "code",
   "execution_count": 15,
   "metadata": {},
   "outputs": [],
   "source": [
    "#colur in particular area\n",
    "blank=np.zeros((500,500,3),dtype='uint8')\n",
    "blank[200:300,300:400]=0,0,225\n",
    "cv.imshow('blank',blank)\n",
    "cv.waitKey(0)                    \n",
    "cv.destroyAllWindows()"
   ]
  },
  {
   "cell_type": "code",
   "execution_count": 18,
   "metadata": {},
   "outputs": [],
   "source": [
    "#Rectanglar box\n",
    "blank=np.zeros((500,500,3),dtype='uint8')\n",
    "cv.rectangle(blank,(0,0),(100,200),(0,225,0),thickness=2)\n",
    "cv.imshow('blank',blank)\n",
    "cv.waitKey(0)                    \n",
    "cv.destroyAllWindows()"
   ]
  },
  {
   "cell_type": "code",
   "execution_count": 19,
   "metadata": {},
   "outputs": [],
   "source": [
    "blank=np.zeros((500,500,3),dtype='uint8')\n",
    "cv.rectangle(blank,(0,0),(100,200),(0,225,0),thickness=-1)\n",
    "cv.imshow('blank',blank)\n",
    "cv.waitKey(0)                    \n",
    "cv.destroyAllWindows()"
   ]
  },
  {
   "cell_type": "code",
   "execution_count": 21,
   "metadata": {},
   "outputs": [],
   "source": [
    "#for circle\n",
    "blank=np.zeros((500,500,3),dtype='uint8')\n",
    "cv.circle(blank,(100,100),100,(0,225,0),thickness=2)\n",
    "cv.imshow('circle',blank)\n",
    "cv.waitKey(0)                    \n",
    "cv.destroyAllWindows()"
   ]
  },
  {
   "cell_type": "code",
   "execution_count": 22,
   "metadata": {},
   "outputs": [],
   "source": [
    "blank=np.zeros((500,500,3),dtype='uint8')\n",
    "cv.rectangle(blank,(0,0),(100,200),(0,225,0),thickness=-1)\n",
    "cv.circle(blank,(100,100),100,(0,0,225),thickness=2)\n",
    "cv.imshow('blank',blank)\n",
    "cv.waitKey(0)                    \n",
    "cv.destroyAllWindows()"
   ]
  },
  {
   "cell_type": "code",
   "execution_count": 23,
   "metadata": {},
   "outputs": [],
   "source": [
    "#for line\n",
    "blank=np.zeros((500,500,3),dtype='uint8')\n",
    "cv.line(blank,(0,0),(100,200),(0,225,0),thickness=2)\n",
    "cv.imshow('line',blank)\n",
    "cv.waitKey(0)                    \n",
    "cv.destroyAllWindows()"
   ]
  },
  {
   "cell_type": "code",
   "execution_count": 31,
   "metadata": {},
   "outputs": [],
   "source": [
    "\n",
    "blank=np.zeros((500,500,3),dtype='uint8')\n",
    "cv.putText(blank,'Naresh',(225,225),cv.FONT_HERSHEY_TRIPLEX,2.0,(0,255,0),2)\n",
    "cv.imshow('text',blank)\n",
    "cv.waitKey(0)                    \n",
    "cv.destroyAllWindows()"
   ]
  },
  {
   "cell_type": "markdown",
   "metadata": {},
   "source": [
    "## convert image"
   ]
  },
  {
   "cell_type": "code",
   "execution_count": 3,
   "metadata": {},
   "outputs": [],
   "source": [
    "img=cv.imread('resource/cat.jpg')\n",
    "cv.imshow('RGB',img)\n",
    "img2=cv.cvtColor(img,cv.COLOR_BGR2GRAY)\n",
    "cv.imshow('Greay',img2)\n",
    "cv.waitKey(0)\n",
    "cv.destroyAllWindows()"
   ]
  },
  {
   "cell_type": "code",
   "execution_count": 13,
   "metadata": {},
   "outputs": [],
   "source": [
    "#blure\n",
    "img=cv.imread('resource/cat.jpg')\n",
    "blur=cv.GaussianBlur(img,(5,5),cv.BORDER_DEFAULT)\n",
    "cv.imshow('Img',img)\n",
    "cv.imshow('Blur',blur)\n",
    "cv.waitKey(0)\n",
    "cv.destroyAllWindows()"
   ]
  },
  {
   "cell_type": "markdown",
   "metadata": {},
   "source": [
    "### Trenasform"
   ]
  },
  {
   "cell_type": "code",
   "execution_count": 21,
   "metadata": {},
   "outputs": [],
   "source": [
    "img=cv.imread('resource/park.jpg')\n",
    "height,width=img.shape[:2]\n",
    "quater_height,quarter_width=int(height/4),int(width/4)\n",
    "#T=|1 0 Tx|\n",
    "#  |0 1 Ty|\n",
    "# T is traisition matrix\n",
    "T=np.float32([[1,0,quater_height],[0,1,quarter_width]])\n",
    "#T=[[1,0,quater_height],[0,1,quarter_width]]\n",
    "#warpAffine use transfer image\n",
    "img_transition=cv.warpAffine(img,T,(width,height))\n",
    "cv.imshow('transilated',img_transition)\n",
    "cv.imshow('Img',img)\n",
    "cv.waitKey(0)\n",
    "cv.destroyAllWindows()"
   ]
  },
  {
   "cell_type": "code",
   "execution_count": 33,
   "metadata": {},
   "outputs": [],
   "source": [
    "#Rotation\n",
    "img=cv.imread('resource/park.jpg')\n",
    "height,width=img.shape[:2]\n",
    "rotation_matrix=cv.getRotationMatrix2D((width/0.5,height/0.5),90,5)\n",
    "rotated_image=cv.warpAffine(img,rotation_matrix,(width,height))\n",
    "cv.imshow('Roation image',rotated_image)\n",
    "cv.waitKey(0)\n",
    "cv.destroyAllWindows()"
   ]
  },
  {
   "cell_type": "markdown",
   "metadata": {},
   "source": [
    "### Pyramid"
   ]
  },
  {
   "cell_type": "code",
   "execution_count": 4,
   "metadata": {},
   "outputs": [],
   "source": [
    "img=cv.imread('images/input.jpg')\n",
    "small=cv.pyrDown(img)\n",
    "large=cv.pyrUp(small)\n",
    "cv.imshow('small',small)\n",
    "cv.imshow('large',large)\n",
    "cv.imshow('Image',img)\n",
    "cv.waitKey(0)\n",
    "cv.destroyAllWindows()"
   ]
  },
  {
   "cell_type": "markdown",
   "metadata": {},
   "source": [
    "### Sharpning"
   ]
  },
  {
   "cell_type": "code",
   "execution_count": 9,
   "metadata": {},
   "outputs": [],
   "source": [
    "image = cv.imread('images/input.jpg')\n",
    "kernel=np.array([[-1,-1,-1], \n",
    "                 [-1,6,-1], \n",
    "                 [-1,-1,-1]])\n",
    "sharp=cv.filter2D(image,-1,kernel)\n",
    "cv.imshow('shap',sharp)\n",
    "cv.imshow('Original', image)\n",
    "cv.waitKey(0)\n",
    "cv.destroyAllWindows()"
   ]
  },
  {
   "cell_type": "markdown",
   "metadata": {},
   "source": [
    "### Arthmatic oprations"
   ]
  },
  {
   "cell_type": "code",
   "execution_count": 10,
   "metadata": {},
   "outputs": [],
   "source": [
    "img=cv.imread('images/input.jpg')\n",
    "M=np.ones(img.shape,dtype='uint8')*75\n",
    "#adding values i.e brightness increses\n",
    "bright_inc=cv.add(img,M)\n",
    "cv.imshow('Bright',bright_inc)\n",
    "#subtracting i.e decresing brihtness\n",
    "subtracted = cv.subtract(image, M)\n",
    "cv.imshow(\"Subtracted\", subtracted)\n",
    "\n",
    "cv.waitKey(0)\n",
    "cv.destroyAllWindows()"
   ]
  },
  {
   "cell_type": "markdown",
   "metadata": {},
   "source": [
    "### Edge detection"
   ]
  },
  {
   "cell_type": "code",
   "execution_count": 12,
   "metadata": {},
   "outputs": [],
   "source": [
    "import cv2\n",
    "import numpy as np\n",
    "\n",
    "image = cv2.imread('images/input.jpg',0)\n",
    "\n",
    "height, width = image.shape\n",
    "\n",
    "# Extract Sobel Edges\n",
    "sobel_x = cv2.Sobel(image, cv2.CV_64F, 0, 1, ksize=5)\n",
    "sobel_y = cv2.Sobel(image, cv2.CV_64F, 1, 0, ksize=5)\n",
    "\n",
    "cv2.imshow('Original', image)\n",
    "cv2.waitKey(0)\n",
    "cv2.imshow('Sobel X', sobel_x)\n",
    "cv2.waitKey(0)\n",
    "cv2.imshow('Sobel Y', sobel_y)\n",
    "cv2.waitKey(0)\n",
    "\n",
    "sobel_OR = cv2.bitwise_or(sobel_x, sobel_y)\n",
    "cv2.imshow('sobel_OR', sobel_OR)\n",
    "cv2.waitKey(0)\n",
    "\n",
    "laplacian = cv2.Laplacian(image, cv2.CV_64F)\n",
    "cv2.imshow('Laplacian', laplacian)\n",
    "cv2.waitKey(0)\n",
    "\n",
    "# Canny Edge Detection uses gradient values as thresholds\n",
    "# The first threshold gradient\n",
    "canny = cv2.Canny(image, 50, 120)\n",
    "cv2.imshow('Canny', canny)\n",
    "cv2.waitKey(0)\n",
    "\n",
    "cv2.destroyAllWindows()"
   ]
  },
  {
   "cell_type": "code",
   "execution_count": 13,
   "metadata": {},
   "outputs": [],
   "source": [
    "#Corner detection\n",
    "#getting gray scale image\n",
    "image=cv.imread('images/chess.jpg',0)\n",
    "cv.imshow('Canny', image)\n",
    "cv.waitKey(0)\n",
    "\n",
    "cv.destroyAllWindows()\n",
    "#convert float32 data\n",
    "gray=np.float32(image)\n",
    "harries_corners=cv.cornerHarris(gray,3,3,0.05)\n"
   ]
  },
  {
   "cell_type": "code",
   "execution_count": 14,
   "metadata": {},
   "outputs": [
    {
     "data": {
      "text/plain": [
       "array([[-8.16336230e+03, -2.79642090e+02, -3.42923071e+03, ...,\n",
       "        -2.00000048e-01, -1.38888910e-01, -2.22222265e-02],\n",
       "       [-9.93997461e+03, -1.06587183e+03, -1.63596021e+03, ...,\n",
       "        -2.00000048e-01, -1.38888910e-01, -2.22222265e-02],\n",
       "       [-6.20942041e+03, -1.26476807e+02, -8.32274902e+02, ...,\n",
       "        -1.22106478e-01, -8.85513276e-02, -1.08410493e-02],\n",
       "       ...,\n",
       "       [-1.38888910e-01, -9.78105888e-02, -4.88136560e-02, ...,\n",
       "        -2.55696973e+03, -2.08870752e+03, -9.64247070e+03],\n",
       "       [-1.38888910e-01, -5.74942157e-02,  1.24990344e-01, ...,\n",
       "        -3.37305225e+03, -2.84167676e+03, -1.28107139e+04],\n",
       "       [-3.55555624e-01, -2.05285519e-01,  1.35416627e-01, ...,\n",
       "        -4.00621606e+03, -3.70122998e+03, -1.57237920e+04]], dtype=float32)"
      ]
     },
     "execution_count": 14,
     "metadata": {},
     "output_type": "execute_result"
    }
   ],
   "source": [
    "harries_corners"
   ]
  },
  {
   "cell_type": "code",
   "execution_count": null,
   "metadata": {},
   "outputs": [],
   "source": []
  }
 ],
 "metadata": {
  "kernelspec": {
   "display_name": "Python 3",
   "language": "python",
   "name": "python3"
  },
  "language_info": {
   "codemirror_mode": {
    "name": "ipython",
    "version": 3
   },
   "file_extension": ".py",
   "mimetype": "text/x-python",
   "name": "python",
   "nbconvert_exporter": "python",
   "pygments_lexer": "ipython3",
   "version": "3.7.4"
  }
 },
 "nbformat": 4,
 "nbformat_minor": 2
}
